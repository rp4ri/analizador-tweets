{
 "cells": [
  {
   "cell_type": "markdown",
   "metadata": {},
   "source": [
    "## Qué hay acá?\n",
    "\n",
    "Tomando los datos de 1_intermediate-vectores-reduces.ipynb, se generan los clusters de los vectores de dimensión 3 y se visualiza con plotly."
   ]
  },
  {
   "cell_type": "code",
   "execution_count": 27,
   "metadata": {},
   "outputs": [],
   "source": [
    "import pandas as pd\n",
    "import numpy as np"
   ]
  },
  {
   "cell_type": "code",
   "execution_count": 12,
   "metadata": {},
   "outputs": [
    {
     "data": {
      "text/plain": [
       "0    Pobres #MasistasIgnorantes piensan que por and...\n",
       "3    @DraInterleucina @LuisFerCamachoV @Elgobernado...\n",
       "4    El tongo siempre fue maleante. Mandó a desvali...\n",
       "5    Así justifica lo tan obvio 🙄como su supuesto a...\n",
       "7                           @grupoeldeber #revocatongo\n",
       "Name: texto-original, dtype: object"
      ]
     },
     "execution_count": 12,
     "metadata": {},
     "output_type": "execute_result"
    }
   ],
   "source": [
    "df = pd.read_excel('../data/0_raw/0_raw.xlsx')\n",
    "\n",
    "df = df.drop_duplicates(subset=['texto-original'])\n",
    "df = df['texto-original']\n",
    "\n",
    "df.head()"
   ]
  },
  {
   "cell_type": "code",
   "execution_count": 10,
   "metadata": {},
   "outputs": [
    {
     "name": "stdout",
     "output_type": "stream",
     "text": [
      "(36, 3)\n"
     ]
    },
    {
     "data": {
      "text/html": [
       "<div>\n",
       "<style scoped>\n",
       "    .dataframe tbody tr th:only-of-type {\n",
       "        vertical-align: middle;\n",
       "    }\n",
       "\n",
       "    .dataframe tbody tr th {\n",
       "        vertical-align: top;\n",
       "    }\n",
       "\n",
       "    .dataframe thead th {\n",
       "        text-align: right;\n",
       "    }\n",
       "</style>\n",
       "<table border=\"1\" class=\"dataframe\">\n",
       "  <thead>\n",
       "    <tr style=\"text-align: right;\">\n",
       "      <th></th>\n",
       "      <th>x</th>\n",
       "      <th>y</th>\n",
       "      <th>z</th>\n",
       "    </tr>\n",
       "  </thead>\n",
       "  <tbody>\n",
       "    <tr>\n",
       "      <th>0</th>\n",
       "      <td>-0.919580</td>\n",
       "      <td>-0.824795</td>\n",
       "      <td>-0.407625</td>\n",
       "    </tr>\n",
       "    <tr>\n",
       "      <th>1</th>\n",
       "      <td>1.072242</td>\n",
       "      <td>0.122152</td>\n",
       "      <td>-0.375245</td>\n",
       "    </tr>\n",
       "    <tr>\n",
       "      <th>2</th>\n",
       "      <td>-1.941560</td>\n",
       "      <td>-1.431749</td>\n",
       "      <td>-0.816938</td>\n",
       "    </tr>\n",
       "    <tr>\n",
       "      <th>3</th>\n",
       "      <td>-1.109628</td>\n",
       "      <td>1.176379</td>\n",
       "      <td>0.033493</td>\n",
       "    </tr>\n",
       "    <tr>\n",
       "      <th>4</th>\n",
       "      <td>6.045797</td>\n",
       "      <td>-0.501563</td>\n",
       "      <td>0.545590</td>\n",
       "    </tr>\n",
       "  </tbody>\n",
       "</table>\n",
       "</div>"
      ],
      "text/plain": [
       "          x         y         z\n",
       "0 -0.919580 -0.824795 -0.407625\n",
       "1  1.072242  0.122152 -0.375245\n",
       "2 -1.941560 -1.431749 -0.816938\n",
       "3 -1.109628  1.176379  0.033493\n",
       "4  6.045797 -0.501563  0.545590"
      ]
     },
     "execution_count": 10,
     "metadata": {},
     "output_type": "execute_result"
    }
   ],
   "source": [
    "puntos = pd.read_json('../data/1_intermediate/1_intermediate-vectores-reducidos-pca.json', orient='records', lines=True)\n",
    "print(puntos.shape)\n",
    "puntos.head()"
   ]
  },
  {
   "cell_type": "code",
   "execution_count": 13,
   "metadata": {},
   "outputs": [
    {
     "data": {
      "text/html": [
       "<div>\n",
       "<style scoped>\n",
       "    .dataframe tbody tr th:only-of-type {\n",
       "        vertical-align: middle;\n",
       "    }\n",
       "\n",
       "    .dataframe tbody tr th {\n",
       "        vertical-align: top;\n",
       "    }\n",
       "\n",
       "    .dataframe thead th {\n",
       "        text-align: right;\n",
       "    }\n",
       "</style>\n",
       "<table border=\"1\" class=\"dataframe\">\n",
       "  <thead>\n",
       "    <tr style=\"text-align: right;\">\n",
       "      <th></th>\n",
       "      <th>texto-original</th>\n",
       "      <th>x</th>\n",
       "      <th>y</th>\n",
       "      <th>z</th>\n",
       "    </tr>\n",
       "  </thead>\n",
       "  <tbody>\n",
       "    <tr>\n",
       "      <th>0</th>\n",
       "      <td>Pobres #MasistasIgnorantes piensan que por and...</td>\n",
       "      <td>-0.919580</td>\n",
       "      <td>-0.824795</td>\n",
       "      <td>-0.407625</td>\n",
       "    </tr>\n",
       "    <tr>\n",
       "      <th>3</th>\n",
       "      <td>@DraInterleucina @LuisFerCamachoV @Elgobernado...</td>\n",
       "      <td>-1.109628</td>\n",
       "      <td>1.176379</td>\n",
       "      <td>0.033493</td>\n",
       "    </tr>\n",
       "    <tr>\n",
       "      <th>4</th>\n",
       "      <td>El tongo siempre fue maleante. Mandó a desvali...</td>\n",
       "      <td>6.045797</td>\n",
       "      <td>-0.501563</td>\n",
       "      <td>0.545590</td>\n",
       "    </tr>\n",
       "    <tr>\n",
       "      <th>5</th>\n",
       "      <td>Así justifica lo tan obvio 🙄como su supuesto a...</td>\n",
       "      <td>3.762716</td>\n",
       "      <td>1.338456</td>\n",
       "      <td>-0.464555</td>\n",
       "    </tr>\n",
       "    <tr>\n",
       "      <th>7</th>\n",
       "      <td>@grupoeldeber #revocatongo</td>\n",
       "      <td>-2.330225</td>\n",
       "      <td>0.928893</td>\n",
       "      <td>-0.321064</td>\n",
       "    </tr>\n",
       "  </tbody>\n",
       "</table>\n",
       "</div>"
      ],
      "text/plain": [
       "                                      texto-original         x         y  \\\n",
       "0  Pobres #MasistasIgnorantes piensan que por and... -0.919580 -0.824795   \n",
       "3  @DraInterleucina @LuisFerCamachoV @Elgobernado... -1.109628  1.176379   \n",
       "4  El tongo siempre fue maleante. Mandó a desvali...  6.045797 -0.501563   \n",
       "5  Así justifica lo tan obvio 🙄como su supuesto a...  3.762716  1.338456   \n",
       "7                         @grupoeldeber #revocatongo -2.330225  0.928893   \n",
       "\n",
       "          z  \n",
       "0 -0.407625  \n",
       "3  0.033493  \n",
       "4  0.545590  \n",
       "5 -0.464555  \n",
       "7 -0.321064  "
      ]
     },
     "execution_count": 13,
     "metadata": {},
     "output_type": "execute_result"
    }
   ],
   "source": [
    "# create a new dataframe with puntos and df\n",
    "df = pd.concat([df, puntos], axis=1)\n",
    "df.head()"
   ]
  },
  {
   "cell_type": "code",
   "execution_count": 20,
   "metadata": {},
   "outputs": [
    {
     "data": {
      "application/vnd.plotly.v1+json": {
       "config": {
        "plotlyServerURL": "https://plot.ly"
       },
       "data": [
        {
         "hovertemplate": "<b>%{hovertext}</b><br><br>x=%{x}<br>y=%{y}<br>z=%{z}<extra></extra>",
         "hovertext": [
          "Pobres #MasistasIgnorantes piensan que por andar con #TioTongo, su nuevo #MasiMula #MasiLlunku, van ",
          "@DraInterleucina @LuisFerCamachoV @ElgobernadorLfc Hay que darle #RevocaTongo al tipejo",
          "El tongo siempre fue maleante. Mandó a desvalijar la casa de su padre en cuánto se esteró de su fall",
          "Así justifica lo tan obvio 🙄como su supuesto autoatentado \n#RevocaTongo #JhonnyNoEsAmigo https://t.c",
          "@grupoeldeber #revocatongo",
          "@pajarocantor007 #Revocatongo",
          "¡Qué tal! ¡Así nomás había sido!🤨 #RevocaTongo https://t.co/OBMMJVA3PG",
          "https://t.co/9v7OJZ4MjB en #SantaCruz lamentamos tener un Gobierno q envíe a 2 ministros a  vulnerar",
          "#Tongo dice \"yo soy el pueblo\" 😂😂😂😂😂😂😂😂😂⁉️⁉️⁉️\nDebería decir:\n \"YO TAMBIÉN LE ROBO AL PUEBLO\" ‼️‼️‼️",
          "Yo no obedece a nadie solo al MAS . POR ESO #REVOCATONGO https://t.co/UbdCvGnPdO",
          "@grupoeldeber Porque al yoni le gusta atragantarse con sobras!\n#Revocatongo",
          "Los entendidos ingenieros en sistemas y peritos informáticos dicen que el procesador y la memoria RA",
          "Pobre #MasiTongo, no es más un pobre #MasiLlunku, igual te vamos a hacer #RevocaTongo ....(correcto ",
          "@abecor_BOLIVIA #revocatongo este sinvergüenza cara dura debería irse a su casa es mucho pícaro  a v",
          "@grupoeldeber Váyanse a la mierda tongo de mierda carisimas esas quipus sinvergüenza de mierda tcomo",
          "@grupoeldeber Tongo sinvergüenza pícaro cara dura traidor y masista y como todo masista siempre roba",
          "#RevocaTongo https://t.co/EpwBwy84f7",
          "@JhonnyTuAmigo queremos saber ¿qué pasa con esto? \n#RevocaTongo https://t.co/vMRCWnuujj",
          "@AndreitaBolivia #revocatongo",
          "@grupoeldeber TRaidor🤬  #Revocatongo",
          "#TongoAzulino\n#Vendido\n#QuipusDeWebo\n#RevocaTongo\n#SantaCruzNoOlvida\n#ChauTongo https://t.co/MbnQPb5",
          "En Santa Cruz #Revocatongo en La Paz como se podría llamar???",
          "El chiste de cuenta solo.....\n#SantaCruzBo no merece \ntener un alcalde #MasiTongo, por eso #Censo202",
          "Con bombos y platillos, rodeado de medios de comunicación social, el alcalde farsante #JhonnyFernand",
          "Que se le dice cuando entras bien adentro de la caca y ya no puedes salir?\nEmbarrado \nJodido?\n#Revoc",
          "@genaritotm Este flojo no sirve para nada.\n#JhonnyFernandez \n#AlcaldeFarzante\n#RevocaTongo",
          "@grupoeldeber #RevocaTongo",
          "@grupoeldeber Regla de caballeros:\n\nSi tenej cuerpo de turril y tu cuello esta en la cola de paja qu",
          "#RevocaTongo Ya! https://t.co/WWO8LJOUjZ https://t.co/UEro2vKJ9c",
          "La verdadera marcha y paro que deberíamos hacer es para que los gremiales dejen de hacer lo que les ",
          "#SantaCruzBolivia | Ciudadanos cruceños piden REVOCATORIO AL ALCADE Jhonny Fernandez.\n#REVOCATONGO h",
          "Por qué habrá cambiado de opinión #JhonnyFernandez? Su traición y su condena civil ya están determin",
          "El origen del hit del momento en Santa Cruz. #Revocatongo https://t.co/s4mtzMiKZR",
          "@grupoeldeber Andate titerillo del MAS, rescatá la poca dignidad que tienes #revocatongo",
          "#RevocaTongo #RevocaTongo #RevocaTongo\nY si no se puede #CabildoYa https://t.co/UyRSQXgHsL",
          "#URGENTE 🚨🚨🚨🚨🚨🚨🚨CRUCEÑOS Y NO CRUCEÑOS QUÉ AMAMOS NUESTRO PUEBLO BENDITO . APOYEMOS PARA PEDIR REVOC",
          null,
          null,
          null,
          null,
          null,
          null,
          null,
          null,
          null,
          null,
          null,
          null
         ],
         "legendgroup": "",
         "marker": {
          "color": "#636efa",
          "opacity": 0.7,
          "symbol": "circle"
         },
         "mode": "markers",
         "name": "",
         "scene": "scene",
         "showlegend": false,
         "type": "scatter3d",
         "x": [
          -0.9195802319,
          -1.1096275215,
          6.0457971217,
          3.7627157678,
          -2.3302254538,
          -2.3445360217,
          1.9759074139,
          -1.3149816815,
          -1.8188428377,
          -0.12264951580000001,
          0.5213528137,
          0.526207492,
          4.4030008648,
          -0.19720255990000002,
          -2.3060006704,
          1.4467308347,
          5.6346528377,
          -0.9409547882,
          -0.8788946007,
          -1.9330413039,
          -1.7190471023,
          -1.4647927556,
          -1.1017702379,
          -2.3454745998,
          null,
          null,
          null,
          null,
          null,
          null,
          null,
          null,
          null,
          null,
          null,
          null,
          1.0722424462,
          -1.9415604155000001,
          -1.0278415207,
          -2.1107475328,
          -0.2494410115,
          0.6545960304,
          5.6956895516,
          -0.9241749476000001,
          -1.3172521586000001,
          -2.1984200871,
          -0.8871831197000001,
          1.7653495017
         ],
         "y": [
          -0.8247947238000001,
          1.1763791427,
          -0.5015633555,
          1.3384561645,
          0.9288934487,
          1.6121005695,
          -2.4400154351,
          -0.46075273170000003,
          0.5060974765,
          -4.2974407383,
          -3.3310289353,
          5.4550119926,
          0.7579963430000001,
          3.2728712661,
          -0.5562224045,
          0.2841141827,
          0.19960870390000002,
          -2.3835415908,
          4.977044553,
          -3.2331850607,
          1.2510208239,
          0.9737677858,
          2.3660199778,
          -1.2510681549,
          null,
          null,
          null,
          null,
          null,
          null,
          null,
          null,
          null,
          null,
          null,
          null,
          0.1221523717,
          -1.4317486547,
          1.2680056848,
          -2.1879442054,
          -3.8728090273999998,
          2.0594398502,
          -0.5375090034000001,
          -1.5176465084,
          0.7237916224000001,
          -0.5458773113000001,
          2.1572165355,
          -2.0568406539
         ],
         "z": [
          -0.40762492440000003,
          0.0334929654,
          0.5455897169,
          -0.4645547016,
          -0.3210636676,
          1.2773479979,
          -0.35116044550000003,
          -0.3013370553,
          -0.709065516,
          -0.46533247400000005,
          -0.7143599900000001,
          0.0646152594,
          -0.7809211243,
          0.1442852487,
          -2.1255884629,
          -0.3250253179,
          1.4244852349000001,
          -0.2281776849,
          0.43492988850000003,
          -1.4050659761,
          1.422017799,
          -0.4211169958,
          -0.0960115099,
          5.7775892179,
          null,
          null,
          null,
          null,
          null,
          null,
          null,
          null,
          null,
          null,
          null,
          null,
          -0.37524508160000003,
          -0.8169376981,
          -0.40348441700000004,
          4.3789066073,
          -0.0453821739,
          -0.8552599497000001,
          1.17785253,
          -2.3441144387,
          -0.4756823021,
          -0.8187273258000001,
          -1.0543658232,
          -0.3755074095
         ]
        }
       ],
       "layout": {
        "legend": {
         "tracegroupgap": 0
        },
        "margin": {
         "t": 60
        },
        "scene": {
         "domain": {
          "x": [
           0,
           1
          ],
          "y": [
           0,
           1
          ]
         },
         "xaxis": {
          "title": {
           "text": "x"
          }
         },
         "yaxis": {
          "title": {
           "text": "y"
          }
         },
         "zaxis": {
          "title": {
           "text": "z"
          }
         }
        },
        "template": {
         "data": {
          "bar": [
           {
            "error_x": {
             "color": "#f2f5fa"
            },
            "error_y": {
             "color": "#f2f5fa"
            },
            "marker": {
             "line": {
              "color": "rgb(17,17,17)",
              "width": 0.5
             },
             "pattern": {
              "fillmode": "overlay",
              "size": 10,
              "solidity": 0.2
             }
            },
            "type": "bar"
           }
          ],
          "barpolar": [
           {
            "marker": {
             "line": {
              "color": "rgb(17,17,17)",
              "width": 0.5
             },
             "pattern": {
              "fillmode": "overlay",
              "size": 10,
              "solidity": 0.2
             }
            },
            "type": "barpolar"
           }
          ],
          "carpet": [
           {
            "aaxis": {
             "endlinecolor": "#A2B1C6",
             "gridcolor": "#506784",
             "linecolor": "#506784",
             "minorgridcolor": "#506784",
             "startlinecolor": "#A2B1C6"
            },
            "baxis": {
             "endlinecolor": "#A2B1C6",
             "gridcolor": "#506784",
             "linecolor": "#506784",
             "minorgridcolor": "#506784",
             "startlinecolor": "#A2B1C6"
            },
            "type": "carpet"
           }
          ],
          "choropleth": [
           {
            "colorbar": {
             "outlinewidth": 0,
             "ticks": ""
            },
            "type": "choropleth"
           }
          ],
          "contour": [
           {
            "colorbar": {
             "outlinewidth": 0,
             "ticks": ""
            },
            "colorscale": [
             [
              0,
              "#0d0887"
             ],
             [
              0.1111111111111111,
              "#46039f"
             ],
             [
              0.2222222222222222,
              "#7201a8"
             ],
             [
              0.3333333333333333,
              "#9c179e"
             ],
             [
              0.4444444444444444,
              "#bd3786"
             ],
             [
              0.5555555555555556,
              "#d8576b"
             ],
             [
              0.6666666666666666,
              "#ed7953"
             ],
             [
              0.7777777777777778,
              "#fb9f3a"
             ],
             [
              0.8888888888888888,
              "#fdca26"
             ],
             [
              1,
              "#f0f921"
             ]
            ],
            "type": "contour"
           }
          ],
          "contourcarpet": [
           {
            "colorbar": {
             "outlinewidth": 0,
             "ticks": ""
            },
            "type": "contourcarpet"
           }
          ],
          "heatmap": [
           {
            "colorbar": {
             "outlinewidth": 0,
             "ticks": ""
            },
            "colorscale": [
             [
              0,
              "#0d0887"
             ],
             [
              0.1111111111111111,
              "#46039f"
             ],
             [
              0.2222222222222222,
              "#7201a8"
             ],
             [
              0.3333333333333333,
              "#9c179e"
             ],
             [
              0.4444444444444444,
              "#bd3786"
             ],
             [
              0.5555555555555556,
              "#d8576b"
             ],
             [
              0.6666666666666666,
              "#ed7953"
             ],
             [
              0.7777777777777778,
              "#fb9f3a"
             ],
             [
              0.8888888888888888,
              "#fdca26"
             ],
             [
              1,
              "#f0f921"
             ]
            ],
            "type": "heatmap"
           }
          ],
          "heatmapgl": [
           {
            "colorbar": {
             "outlinewidth": 0,
             "ticks": ""
            },
            "colorscale": [
             [
              0,
              "#0d0887"
             ],
             [
              0.1111111111111111,
              "#46039f"
             ],
             [
              0.2222222222222222,
              "#7201a8"
             ],
             [
              0.3333333333333333,
              "#9c179e"
             ],
             [
              0.4444444444444444,
              "#bd3786"
             ],
             [
              0.5555555555555556,
              "#d8576b"
             ],
             [
              0.6666666666666666,
              "#ed7953"
             ],
             [
              0.7777777777777778,
              "#fb9f3a"
             ],
             [
              0.8888888888888888,
              "#fdca26"
             ],
             [
              1,
              "#f0f921"
             ]
            ],
            "type": "heatmapgl"
           }
          ],
          "histogram": [
           {
            "marker": {
             "pattern": {
              "fillmode": "overlay",
              "size": 10,
              "solidity": 0.2
             }
            },
            "type": "histogram"
           }
          ],
          "histogram2d": [
           {
            "colorbar": {
             "outlinewidth": 0,
             "ticks": ""
            },
            "colorscale": [
             [
              0,
              "#0d0887"
             ],
             [
              0.1111111111111111,
              "#46039f"
             ],
             [
              0.2222222222222222,
              "#7201a8"
             ],
             [
              0.3333333333333333,
              "#9c179e"
             ],
             [
              0.4444444444444444,
              "#bd3786"
             ],
             [
              0.5555555555555556,
              "#d8576b"
             ],
             [
              0.6666666666666666,
              "#ed7953"
             ],
             [
              0.7777777777777778,
              "#fb9f3a"
             ],
             [
              0.8888888888888888,
              "#fdca26"
             ],
             [
              1,
              "#f0f921"
             ]
            ],
            "type": "histogram2d"
           }
          ],
          "histogram2dcontour": [
           {
            "colorbar": {
             "outlinewidth": 0,
             "ticks": ""
            },
            "colorscale": [
             [
              0,
              "#0d0887"
             ],
             [
              0.1111111111111111,
              "#46039f"
             ],
             [
              0.2222222222222222,
              "#7201a8"
             ],
             [
              0.3333333333333333,
              "#9c179e"
             ],
             [
              0.4444444444444444,
              "#bd3786"
             ],
             [
              0.5555555555555556,
              "#d8576b"
             ],
             [
              0.6666666666666666,
              "#ed7953"
             ],
             [
              0.7777777777777778,
              "#fb9f3a"
             ],
             [
              0.8888888888888888,
              "#fdca26"
             ],
             [
              1,
              "#f0f921"
             ]
            ],
            "type": "histogram2dcontour"
           }
          ],
          "mesh3d": [
           {
            "colorbar": {
             "outlinewidth": 0,
             "ticks": ""
            },
            "type": "mesh3d"
           }
          ],
          "parcoords": [
           {
            "line": {
             "colorbar": {
              "outlinewidth": 0,
              "ticks": ""
             }
            },
            "type": "parcoords"
           }
          ],
          "pie": [
           {
            "automargin": true,
            "type": "pie"
           }
          ],
          "scatter": [
           {
            "marker": {
             "line": {
              "color": "#283442"
             }
            },
            "type": "scatter"
           }
          ],
          "scatter3d": [
           {
            "line": {
             "colorbar": {
              "outlinewidth": 0,
              "ticks": ""
             }
            },
            "marker": {
             "colorbar": {
              "outlinewidth": 0,
              "ticks": ""
             }
            },
            "type": "scatter3d"
           }
          ],
          "scattercarpet": [
           {
            "marker": {
             "colorbar": {
              "outlinewidth": 0,
              "ticks": ""
             }
            },
            "type": "scattercarpet"
           }
          ],
          "scattergeo": [
           {
            "marker": {
             "colorbar": {
              "outlinewidth": 0,
              "ticks": ""
             }
            },
            "type": "scattergeo"
           }
          ],
          "scattergl": [
           {
            "marker": {
             "line": {
              "color": "#283442"
             }
            },
            "type": "scattergl"
           }
          ],
          "scattermapbox": [
           {
            "marker": {
             "colorbar": {
              "outlinewidth": 0,
              "ticks": ""
             }
            },
            "type": "scattermapbox"
           }
          ],
          "scatterpolar": [
           {
            "marker": {
             "colorbar": {
              "outlinewidth": 0,
              "ticks": ""
             }
            },
            "type": "scatterpolar"
           }
          ],
          "scatterpolargl": [
           {
            "marker": {
             "colorbar": {
              "outlinewidth": 0,
              "ticks": ""
             }
            },
            "type": "scatterpolargl"
           }
          ],
          "scatterternary": [
           {
            "marker": {
             "colorbar": {
              "outlinewidth": 0,
              "ticks": ""
             }
            },
            "type": "scatterternary"
           }
          ],
          "surface": [
           {
            "colorbar": {
             "outlinewidth": 0,
             "ticks": ""
            },
            "colorscale": [
             [
              0,
              "#0d0887"
             ],
             [
              0.1111111111111111,
              "#46039f"
             ],
             [
              0.2222222222222222,
              "#7201a8"
             ],
             [
              0.3333333333333333,
              "#9c179e"
             ],
             [
              0.4444444444444444,
              "#bd3786"
             ],
             [
              0.5555555555555556,
              "#d8576b"
             ],
             [
              0.6666666666666666,
              "#ed7953"
             ],
             [
              0.7777777777777778,
              "#fb9f3a"
             ],
             [
              0.8888888888888888,
              "#fdca26"
             ],
             [
              1,
              "#f0f921"
             ]
            ],
            "type": "surface"
           }
          ],
          "table": [
           {
            "cells": {
             "fill": {
              "color": "#506784"
             },
             "line": {
              "color": "rgb(17,17,17)"
             }
            },
            "header": {
             "fill": {
              "color": "#2a3f5f"
             },
             "line": {
              "color": "rgb(17,17,17)"
             }
            },
            "type": "table"
           }
          ]
         },
         "layout": {
          "annotationdefaults": {
           "arrowcolor": "#f2f5fa",
           "arrowhead": 0,
           "arrowwidth": 1
          },
          "autotypenumbers": "strict",
          "coloraxis": {
           "colorbar": {
            "outlinewidth": 0,
            "ticks": ""
           }
          },
          "colorscale": {
           "diverging": [
            [
             0,
             "#8e0152"
            ],
            [
             0.1,
             "#c51b7d"
            ],
            [
             0.2,
             "#de77ae"
            ],
            [
             0.3,
             "#f1b6da"
            ],
            [
             0.4,
             "#fde0ef"
            ],
            [
             0.5,
             "#f7f7f7"
            ],
            [
             0.6,
             "#e6f5d0"
            ],
            [
             0.7,
             "#b8e186"
            ],
            [
             0.8,
             "#7fbc41"
            ],
            [
             0.9,
             "#4d9221"
            ],
            [
             1,
             "#276419"
            ]
           ],
           "sequential": [
            [
             0,
             "#0d0887"
            ],
            [
             0.1111111111111111,
             "#46039f"
            ],
            [
             0.2222222222222222,
             "#7201a8"
            ],
            [
             0.3333333333333333,
             "#9c179e"
            ],
            [
             0.4444444444444444,
             "#bd3786"
            ],
            [
             0.5555555555555556,
             "#d8576b"
            ],
            [
             0.6666666666666666,
             "#ed7953"
            ],
            [
             0.7777777777777778,
             "#fb9f3a"
            ],
            [
             0.8888888888888888,
             "#fdca26"
            ],
            [
             1,
             "#f0f921"
            ]
           ],
           "sequentialminus": [
            [
             0,
             "#0d0887"
            ],
            [
             0.1111111111111111,
             "#46039f"
            ],
            [
             0.2222222222222222,
             "#7201a8"
            ],
            [
             0.3333333333333333,
             "#9c179e"
            ],
            [
             0.4444444444444444,
             "#bd3786"
            ],
            [
             0.5555555555555556,
             "#d8576b"
            ],
            [
             0.6666666666666666,
             "#ed7953"
            ],
            [
             0.7777777777777778,
             "#fb9f3a"
            ],
            [
             0.8888888888888888,
             "#fdca26"
            ],
            [
             1,
             "#f0f921"
            ]
           ]
          },
          "colorway": [
           "#636efa",
           "#EF553B",
           "#00cc96",
           "#ab63fa",
           "#FFA15A",
           "#19d3f3",
           "#FF6692",
           "#B6E880",
           "#FF97FF",
           "#FECB52"
          ],
          "font": {
           "color": "#f2f5fa"
          },
          "geo": {
           "bgcolor": "rgb(17,17,17)",
           "lakecolor": "rgb(17,17,17)",
           "landcolor": "rgb(17,17,17)",
           "showlakes": true,
           "showland": true,
           "subunitcolor": "#506784"
          },
          "hoverlabel": {
           "align": "left"
          },
          "hovermode": "closest",
          "mapbox": {
           "style": "dark"
          },
          "paper_bgcolor": "rgb(17,17,17)",
          "plot_bgcolor": "rgb(17,17,17)",
          "polar": {
           "angularaxis": {
            "gridcolor": "#506784",
            "linecolor": "#506784",
            "ticks": ""
           },
           "bgcolor": "rgb(17,17,17)",
           "radialaxis": {
            "gridcolor": "#506784",
            "linecolor": "#506784",
            "ticks": ""
           }
          },
          "scene": {
           "xaxis": {
            "backgroundcolor": "rgb(17,17,17)",
            "gridcolor": "#506784",
            "gridwidth": 2,
            "linecolor": "#506784",
            "showbackground": true,
            "ticks": "",
            "zerolinecolor": "#C8D4E3"
           },
           "yaxis": {
            "backgroundcolor": "rgb(17,17,17)",
            "gridcolor": "#506784",
            "gridwidth": 2,
            "linecolor": "#506784",
            "showbackground": true,
            "ticks": "",
            "zerolinecolor": "#C8D4E3"
           },
           "zaxis": {
            "backgroundcolor": "rgb(17,17,17)",
            "gridcolor": "#506784",
            "gridwidth": 2,
            "linecolor": "#506784",
            "showbackground": true,
            "ticks": "",
            "zerolinecolor": "#C8D4E3"
           }
          },
          "shapedefaults": {
           "line": {
            "color": "#f2f5fa"
           }
          },
          "sliderdefaults": {
           "bgcolor": "#C8D4E3",
           "bordercolor": "rgb(17,17,17)",
           "borderwidth": 1,
           "tickwidth": 0
          },
          "ternary": {
           "aaxis": {
            "gridcolor": "#506784",
            "linecolor": "#506784",
            "ticks": ""
           },
           "baxis": {
            "gridcolor": "#506784",
            "linecolor": "#506784",
            "ticks": ""
           },
           "bgcolor": "rgb(17,17,17)",
           "caxis": {
            "gridcolor": "#506784",
            "linecolor": "#506784",
            "ticks": ""
           }
          },
          "title": {
           "x": 0.05
          },
          "updatemenudefaults": {
           "bgcolor": "#506784",
           "borderwidth": 0
          },
          "xaxis": {
           "automargin": true,
           "gridcolor": "#283442",
           "linecolor": "#506784",
           "ticks": "",
           "title": {
            "standoff": 15
           },
           "zerolinecolor": "#283442",
           "zerolinewidth": 2
          },
          "yaxis": {
           "automargin": true,
           "gridcolor": "#283442",
           "linecolor": "#506784",
           "ticks": "",
           "title": {
            "standoff": 15
           },
           "zerolinecolor": "#283442",
           "zerolinewidth": 2
          }
         }
        }
       }
      }
     },
     "metadata": {},
     "output_type": "display_data"
    }
   ],
   "source": [
    "# plot embedding in 3d\n",
    "import plotly.express as px\n",
    "#fig = px.scatter_3d(embedding, x=0, y=1, z=2, opacity=0.7)\n",
    "# max length of text to show in hover 100 characters\n",
    "\n",
    "df_trunc = df.copy()\n",
    "df_trunc['texto-original'] = df_trunc['texto-original'].str.slice(0, 100)\n",
    "fig = px.scatter_3d(df_trunc, x='x', y='y', z='z', opacity=0.7, hover_name='texto-original', template=\"plotly_dark\")\n",
    "fig.show()"
   ]
  },
  {
   "cell_type": "code",
   "execution_count": 21,
   "metadata": {},
   "outputs": [
    {
     "name": "stdout",
     "output_type": "stream",
     "text": [
      "<class 'pandas.core.frame.DataFrame'>\n",
      "Int64Index: 48 entries, 0 to 33\n",
      "Data columns (total 4 columns):\n",
      " #   Column          Non-Null Count  Dtype  \n",
      "---  ------          --------------  -----  \n",
      " 0   texto-original  36 non-null     object \n",
      " 1   x               36 non-null     float64\n",
      " 2   y               36 non-null     float64\n",
      " 3   z               36 non-null     float64\n",
      "dtypes: float64(3), object(1)\n",
      "memory usage: 1.9+ KB\n"
     ]
    }
   ],
   "source": [
    "df.info()"
   ]
  },
  {
   "cell_type": "code",
   "execution_count": 23,
   "metadata": {},
   "outputs": [
    {
     "data": {
      "text/plain": [
       "(48, 3)"
      ]
     },
     "execution_count": 23,
     "metadata": {},
     "output_type": "execute_result"
    }
   ],
   "source": [
    "X = df.iloc[:, 1:4].values\n",
    "X.shape"
   ]
  },
  {
   "cell_type": "code",
   "execution_count": 24,
   "metadata": {},
   "outputs": [
    {
     "data": {
      "text/plain": [
       "array([[-0.91958023, -0.82479472, -0.40762492],\n",
       "       [-1.10962752,  1.17637914,  0.03349297],\n",
       "       [ 6.04579712, -0.50156336,  0.54558972],\n",
       "       [ 3.76271577,  1.33845616, -0.4645547 ],\n",
       "       [-2.33022545,  0.92889345, -0.32106367],\n",
       "       [-2.34453602,  1.61210057,  1.277348  ],\n",
       "       [ 1.97590741, -2.44001544, -0.35116045],\n",
       "       [-1.31498168, -0.46075273, -0.30133706],\n",
       "       [-1.81884284,  0.50609748, -0.70906552],\n",
       "       [-0.12264952, -4.29744074, -0.46533247],\n",
       "       [ 0.52135281, -3.33102894, -0.71435999],\n",
       "       [ 0.52620749,  5.45501199,  0.06461526],\n",
       "       [ 4.40300086,  0.75799634, -0.78092112],\n",
       "       [-0.19720256,  3.27287127,  0.14428525],\n",
       "       [-2.30600067, -0.5562224 , -2.12558846],\n",
       "       [ 1.44673083,  0.28411418, -0.32502532],\n",
       "       [ 5.63465284,  0.1996087 ,  1.42448523],\n",
       "       [-0.94095479, -2.38354159, -0.22817768],\n",
       "       [-0.8788946 ,  4.97704455,  0.43492989],\n",
       "       [-1.9330413 , -3.23318506, -1.40506598],\n",
       "       [-1.7190471 ,  1.25102082,  1.4220178 ],\n",
       "       [-1.46479276,  0.97376779, -0.421117  ],\n",
       "       [-1.10177024,  2.36601998, -0.09601151],\n",
       "       [-2.3454746 , -1.25106815,  5.77758922],\n",
       "       [        nan,         nan,         nan],\n",
       "       [        nan,         nan,         nan],\n",
       "       [        nan,         nan,         nan],\n",
       "       [        nan,         nan,         nan],\n",
       "       [        nan,         nan,         nan],\n",
       "       [        nan,         nan,         nan],\n",
       "       [        nan,         nan,         nan],\n",
       "       [        nan,         nan,         nan],\n",
       "       [        nan,         nan,         nan],\n",
       "       [        nan,         nan,         nan],\n",
       "       [        nan,         nan,         nan],\n",
       "       [        nan,         nan,         nan],\n",
       "       [ 1.07224245,  0.12215237, -0.37524508],\n",
       "       [-1.94156042, -1.43174865, -0.8169377 ],\n",
       "       [-1.02784152,  1.26800568, -0.40348442],\n",
       "       [-2.11074753, -2.18794421,  4.37890661],\n",
       "       [-0.24944101, -3.87280903, -0.04538217],\n",
       "       [ 0.65459603,  2.05943985, -0.85525995],\n",
       "       [ 5.69568955, -0.537509  ,  1.17785253],\n",
       "       [-0.92417495, -1.51764651, -2.34411444],\n",
       "       [-1.31725216,  0.72379162, -0.4756823 ],\n",
       "       [-2.19842009, -0.54587731, -0.81872733],\n",
       "       [-0.88718312,  2.15721654, -1.05436582],\n",
       "       [ 1.7653495 , -2.05684065, -0.37550741]])"
      ]
     },
     "execution_count": 24,
     "metadata": {},
     "output_type": "execute_result"
    }
   ],
   "source": [
    "X"
   ]
  },
  {
   "cell_type": "code",
   "execution_count": 28,
   "metadata": {},
   "outputs": [
    {
     "data": {
      "text/plain": [
       "array([[-0.91958023, -0.82479472, -0.40762492],\n",
       "       [-1.10962752,  1.17637914,  0.03349297],\n",
       "       [ 6.04579712, -0.50156336,  0.54558972],\n",
       "       [ 3.76271577,  1.33845616, -0.4645547 ],\n",
       "       [-2.33022545,  0.92889345, -0.32106367],\n",
       "       [-2.34453602,  1.61210057,  1.277348  ],\n",
       "       [ 1.97590741, -2.44001544, -0.35116045],\n",
       "       [-1.31498168, -0.46075273, -0.30133706],\n",
       "       [-1.81884284,  0.50609748, -0.70906552],\n",
       "       [-0.12264952, -4.29744074, -0.46533247],\n",
       "       [ 0.52135281, -3.33102894, -0.71435999],\n",
       "       [ 0.52620749,  5.45501199,  0.06461526],\n",
       "       [ 4.40300086,  0.75799634, -0.78092112],\n",
       "       [-0.19720256,  3.27287127,  0.14428525],\n",
       "       [-2.30600067, -0.5562224 , -2.12558846],\n",
       "       [ 1.44673083,  0.28411418, -0.32502532],\n",
       "       [ 5.63465284,  0.1996087 ,  1.42448523],\n",
       "       [-0.94095479, -2.38354159, -0.22817768],\n",
       "       [-0.8788946 ,  4.97704455,  0.43492989],\n",
       "       [-1.9330413 , -3.23318506, -1.40506598],\n",
       "       [-1.7190471 ,  1.25102082,  1.4220178 ],\n",
       "       [-1.46479276,  0.97376779, -0.421117  ],\n",
       "       [-1.10177024,  2.36601998, -0.09601151],\n",
       "       [-2.3454746 , -1.25106815,  5.77758922],\n",
       "       [ 1.07224245,  0.12215237, -0.37524508],\n",
       "       [-1.94156042, -1.43174865, -0.8169377 ],\n",
       "       [-1.02784152,  1.26800568, -0.40348442],\n",
       "       [-2.11074753, -2.18794421,  4.37890661],\n",
       "       [-0.24944101, -3.87280903, -0.04538217],\n",
       "       [ 0.65459603,  2.05943985, -0.85525995],\n",
       "       [ 5.69568955, -0.537509  ,  1.17785253],\n",
       "       [-0.92417495, -1.51764651, -2.34411444],\n",
       "       [-1.31725216,  0.72379162, -0.4756823 ],\n",
       "       [-2.19842009, -0.54587731, -0.81872733],\n",
       "       [-0.88718312,  2.15721654, -1.05436582],\n",
       "       [ 1.7653495 , -2.05684065, -0.37550741]])"
      ]
     },
     "execution_count": 28,
     "metadata": {},
     "output_type": "execute_result"
    }
   ],
   "source": [
    "# delete nans from X\n",
    "X = X[~np.isnan(X).any(axis=1)]\n",
    "X"
   ]
  },
  {
   "cell_type": "code",
   "execution_count": 30,
   "metadata": {},
   "outputs": [
    {
     "data": {
      "image/png": "[encoded data removed]",
      "text/plain": [
       "<Figure size 700x700 with 1 Axes>"
      ]
     },
     "metadata": {},
     "output_type": "display_data"
    }
   ],
   "source": [
    "import matplotlib.pyplot as plt\n",
    "from sklearn.cluster import KMeans\n",
    "\n",
    "WCSS = []\n",
    "for i in range(1,11):\n",
    "    model = KMeans(n_clusters = i,init = 'k-means++')\n",
    "    model.fit(X)\n",
    "    WCSS.append(model.inertia_)\n",
    "fig = plt.figure(figsize = (7,7))\n",
    "\n",
    "plt.style.use('fivethirtyeight')\n",
    "plt.plot(range(1,11),WCSS, linewidth=4, markersize=12,marker='o',color = 'green')\n",
    "plt.xticks(np.arange(11))\n",
    "plt.xlabel(\"Number of clusters\")\n",
    "plt.ylabel(\"WCSS\")\n",
    "plt.show()"
   ]
  },
  {
   "cell_type": "code",
   "execution_count": 31,
   "metadata": {},
   "outputs": [],
   "source": [
    "# default num of clusters is 5\n",
    "Numclusters = 5\n",
    "model = KMeans(n_clusters = Numclusters, init = \"k-means++\", max_iter = 300, n_init = 10, random_state = 0)\n",
    "y_clusters = model.fit_predict(X)"
   ]
  },
  {
   "cell_type": "code",
   "execution_count": 32,
   "metadata": {},
   "outputs": [
    {
     "name": "stdout",
     "output_type": "stream",
     "text": [
      "36\n"
     ]
    }
   ],
   "source": [
    "print(len(y_clusters))"
   ]
  },
  {
   "cell_type": "code",
   "execution_count": 33,
   "metadata": {},
   "outputs": [
    {
     "name": "stderr",
     "output_type": "stream",
     "text": [
      "c:\\anaconda3\\lib\\site-packages\\seaborn\\_decorators.py:36: FutureWarning:\n",
      "\n",
      "Pass the following variable as a keyword arg: x. From version 0.12, the only valid positional argument will be `data`, and passing other arguments without an explicit keyword will result in an error or misinterpretation.\n",
      "\n"
     ]
    },
    {
     "data": {
      "text/plain": [
       "<AxesSubplot:ylabel='count'>"
      ]
     },
     "execution_count": 33,
     "metadata": {},
     "output_type": "execute_result"
    },
    {
     "data": {
      "image/png": "[encoded data removed]",
      "text/plain": [
       "<Figure size 640x480 with 1 Axes>"
      ]
     },
     "metadata": {},
     "output_type": "display_data"
    }
   ],
   "source": [
    "import seaborn as sns\n",
    "\n",
    "# sns style black\n",
    "sns.set_style(\"darkgrid\", {\"axes.facecolor\": \".9\"})\n",
    "plt.style.use('dark_background')\n",
    "sns.countplot(y_clusters)"
   ]
  },
  {
   "cell_type": "code",
   "execution_count": 38,
   "metadata": {},
   "outputs": [
    {
     "data": {
      "image/png": "[encoded data removed]",
      "text/plain": [
       "<Figure size 1500x1500 with 1 Axes>"
      ]
     },
     "metadata": {},
     "output_type": "display_data"
    }
   ],
   "source": [
    "# matplotlib 3d import\n",
    "#from mpl_toolkits.mplot3d import Axes3D\n",
    "import random\n",
    "\n",
    "fig = plt.figure(figsize = (15,15))\n",
    "ax = fig.add_subplot(111, projection='3d')\n",
    "#ax.scatter(X[y_clusters == 0,0],X[y_clusters == 0,1],X[y_clusters == 0,2], s = 40 , color = '#d31e25', label = \"cluster 0\")\n",
    "#ax.scatter(X[y_clusters == 1,0],X[y_clusters == 1,1],X[y_clusters == 1,2], s = 40 , color = '#d7a32e', label = \"cluster 1\")\n",
    "#ax.scatter(X[y_clusters == 2,0],X[y_clusters == 2,1],X[y_clusters == 2,2], s = 40 , color = '#d1c02b', label = \"cluster 2\")\n",
    "#ax.scatter(X[y_clusters == 3,0],X[y_clusters == 3,1],X[y_clusters == 3,2], s = 40 , color = '#369e4b', label = \"cluster 3\")\n",
    "#ax.scatter(X[y_clusters == 4,0],X[y_clusters == 4,1],X[y_clusters == 4,2], s = 40 , color = '#5db5b7', label = \"cluster 4\")\n",
    "#ax.scatter(X[y_clusters == 5,0],X[y_clusters == 5,1],X[y_clusters == 5,2], s = 40 , color = '#31407b', label = \"cluster 5\")\n",
    "#ax.scatter(X[y_clusters == 6,0],X[y_clusters == 6,1],X[y_clusters == 6,2], s = 40 , color = '#8a3f64', label = \"cluster 6\")\n",
    "#ax.scatter(X[y_clusters == 7,0],X[y_clusters == 7,1],X[y_clusters == 7,2], s = 40 , color = '#4f2e39', label = \"cluster 7\")\n",
    "for i in range(Numclusters):\n",
    "    ax.scatter(X[y_clusters == i,0],X[y_clusters == i,1],X[y_clusters == i,2], s = 40, color = '#{}'.format(''.join([random.choice('0123456789ABCDEF') for j in range(6)])), label = \"cluster {}\".format(i))\n",
    "ax.set_xlabel('<-- x -->')\n",
    "ax.set_ylabel('<-- y -->')\n",
    "ax.set_zlabel('<-- z -->')\n",
    "ax.legend()\n",
    "plt.show()"
   ]
  },
  {
   "cell_type": "code",
   "execution_count": 39,
   "metadata": {},
   "outputs": [
    {
     "data": {
      "application/vnd.plotly.v1+json": {
       "config": {
        "plotlyServerURL": "https://plot.ly"
       },
       "data": [
        {
         "marker": {
          "color": [
           0,
           0,
           1,
           1,
           0,
           0,
           4,
           0,
           0,
           4,
           4,
           3,
           1,
           3,
           0,
           0,
           1,
           4,
           3,
           4,
           0,
           0,
           0,
           2,
           0,
           0,
           0,
           2,
           4,
           0,
           1,
           4,
           0,
           0,
           0,
           4
          ],
          "line": {
           "color": "black",
           "width": 10
          },
          "opacity": 0.8,
          "size": 10
         },
         "mode": "markers",
         "text": [
          "Pobres #MasistasIgnorantes piensan que por andar con #TioTongo, su nuevo #MasiMula #MasiLlunku, van a ser bienvenidos en #SantaCruzBo 🤡🤡🤡\nIgual le vam",
          "@DraInterleucina @LuisFerCamachoV @ElgobernadorLfc Hay que darle #RevocaTongo al tipejo",
          "El tongo siempre fue maleante. Mandó a desvalijar la casa de su padre en cuánto se esteró de su fallecimiento. Vaciaron 2 cajas fuertes con mucho dine",
          "Así justifica lo tan obvio 🙄como su supuesto autoatentado \n#RevocaTongo #JhonnyNoEsAmigo https://t.co/jWOYjg35H7",
          "@grupoeldeber #revocatongo",
          "@pajarocantor007 #Revocatongo",
          "¡Qué tal! ¡Así nomás había sido!🤨 #RevocaTongo https://t.co/OBMMJVA3PG",
          "https://t.co/9v7OJZ4MjB en #SantaCruz lamentamos tener un Gobierno q envíe a 2 ministros a  vulnerar el derecho a la protesta y un Alcalde VENDIDO al ",
          "#Tongo dice \"yo soy el pueblo\" 😂😂😂😂😂😂😂😂😂⁉️⁉️⁉️\nDebería decir:\n \"YO TAMBIÉN LE ROBO AL PUEBLO\" ‼️‼️‼️\n$us 300 SOBRE PRECIO POR COMPUTADORA (ladrillo) #",
          "Yo no obedece a nadie solo al MAS . POR ESO #REVOCATONGO https://t.co/UbdCvGnPdO",
          "@grupoeldeber Porque al yoni le gusta atragantarse con sobras!\n#Revocatongo",
          "Los entendidos ingenieros en sistemas y peritos informáticos dicen que el procesador y la memoria RAM de éstos equipos son antiguos y con poca capacid",
          "Pobre #MasiTongo, no es más un pobre #MasiLlunku, igual te vamos a hacer #RevocaTongo ....(correcto no dos vendido fuiste compra de por unas cuantas m",
          "@abecor_BOLIVIA #revocatongo este sinvergüenza cara dura debería irse a su casa es mucho pícaro  a verdad es todo un masista ahora más que declarado e",
          "@grupoeldeber Váyanse a la mierda tongo de mierda carisimas esas quipus sinvergüenza de mierda tcomo todo masista comprando lo viejo para que diga que",
          "@grupoeldeber Tongo sinvergüenza pícaro cara dura traidor y masista y como todo masista siempre robando enserió que tiene que salir de la alcaldía es ",
          "#RevocaTongo https://t.co/EpwBwy84f7",
          "@JhonnyTuAmigo queremos saber ¿qué pasa con esto? \n#RevocaTongo https://t.co/vMRCWnuujj",
          "@AndreitaBolivia #revocatongo",
          "@grupoeldeber TRaidor🤬  #Revocatongo",
          "#TongoAzulino\n#Vendido\n#QuipusDeWebo\n#RevocaTongo\n#SantaCruzNoOlvida\n#ChauTongo https://t.co/MbnQPb5GUm",
          "En Santa Cruz #Revocatongo en La Paz como se podría llamar???",
          "El chiste de cuenta solo.....\n#SantaCruzBo no merece \ntener un alcalde #MasiTongo, por eso #Censo2023 y luego si o si \n#RevocaTongo https://t.co/9gxFR",
          "Con bombos y platillos, rodeado de medios de comunicación social, el alcalde farsante #JhonnyFernandez anunciaba la entrega de un carro bombero. Qué p",
          "Que se le dice cuando entras bien adentro de la caca y ya no puedes salir?\nEmbarrado \nJodido?\n#Revocatongo \nTe vas porque te vas. https://t.co/UPMHdfm",
          "@genaritotm Este flojo no sirve para nada.\n#JhonnyFernandez \n#AlcaldeFarzante\n#RevocaTongo",
          "@grupoeldeber #RevocaTongo",
          "@grupoeldeber Regla de caballeros:\n\nSi tenej cuerpo de turril y tu cuello esta en la cola de paja que te gastás…. No uses camisa de diseñadoooor! NO!\n",
          "#RevocaTongo Ya! https://t.co/WWO8LJOUjZ https://t.co/UEro2vKJ9c",
          "La verdadera marcha y paro que deberíamos hacer es para que los gremiales dejen de hacer lo que les da la gana en Santa Cruz…Jhonny está convirtiendo ",
          "#SantaCruzBolivia | Ciudadanos cruceños piden REVOCATORIO AL ALCADE Jhonny Fernandez.\n#REVOCATONGO https://t.co/jFkdysI1xr",
          "Por qué habrá cambiado de opinión #JhonnyFernandez? Su traición y su condena civil ya están determinadas. \n\n#RevocaTongo \n#RevocatorioYa https://t.co/",
          "El origen del hit del momento en Santa Cruz. #Revocatongo https://t.co/s4mtzMiKZR",
          "@grupoeldeber Andate titerillo del MAS, rescatá la poca dignidad que tienes #revocatongo",
          "#RevocaTongo #RevocaTongo #RevocaTongo\nY si no se puede #CabildoYa https://t.co/UyRSQXgHsL",
          "#URGENTE 🚨🚨🚨🚨🚨🚨🚨CRUCEÑOS Y NO CRUCEÑOS QUÉ AMAMOS NUESTRO PUEBLO BENDITO . APOYEMOS PARA PEDIR REVOCATORIO . EL ALCALDE DE SANTA CRUZ . ESTA REGALANDO",
          null,
          null,
          null,
          null,
          null,
          null,
          null,
          null,
          null,
          null,
          null,
          null
         ],
         "type": "scatter3d",
         "x": [
          -0.9195802319,
          -1.1096275215,
          6.0457971217,
          3.7627157678,
          -2.3302254538,
          -2.3445360217,
          1.9759074139,
          -1.3149816815,
          -1.8188428377,
          -0.12264951580000001,
          0.5213528137,
          0.526207492,
          4.4030008648,
          -0.19720255990000002,
          -2.3060006704,
          1.4467308347,
          5.6346528377,
          -0.9409547882,
          -0.8788946007,
          -1.9330413039,
          -1.7190471023,
          -1.4647927556,
          -1.1017702379,
          -2.3454745998,
          1.0722424462,
          -1.9415604155000001,
          -1.0278415207,
          -2.1107475328,
          -0.2494410115,
          0.6545960304,
          5.6956895516,
          -0.9241749476000001,
          -1.3172521586000001,
          -2.1984200871,
          -0.8871831197000001,
          1.7653495017
         ],
         "y": [
          -0.8247947238000001,
          1.1763791427,
          -0.5015633555,
          1.3384561645,
          0.9288934487,
          1.6121005695,
          -2.4400154351,
          -0.46075273170000003,
          0.5060974765,
          -4.2974407383,
          -3.3310289353,
          5.4550119926,
          0.7579963430000001,
          3.2728712661,
          -0.5562224045,
          0.2841141827,
          0.19960870390000002,
          -2.3835415908,
          4.977044553,
          -3.2331850607,
          1.2510208239,
          0.9737677858,
          2.3660199778,
          -1.2510681549,
          0.1221523717,
          -1.4317486547,
          1.2680056848,
          -2.1879442054,
          -3.8728090273999998,
          2.0594398502,
          -0.5375090034000001,
          -1.5176465084,
          0.7237916224000001,
          -0.5458773113000001,
          2.1572165355,
          -2.0568406539
         ],
         "z": [
          -0.40762492440000003,
          0.0334929654,
          0.5455897169,
          -0.4645547016,
          -0.3210636676,
          1.2773479979,
          -0.35116044550000003,
          -0.3013370553,
          -0.709065516,
          -0.46533247400000005,
          -0.7143599900000001,
          0.0646152594,
          -0.7809211243,
          0.1442852487,
          -2.1255884629,
          -0.3250253179,
          1.4244852349000001,
          -0.2281776849,
          0.43492988850000003,
          -1.4050659761,
          1.422017799,
          -0.4211169958,
          -0.0960115099,
          5.7775892179,
          -0.37524508160000003,
          -0.8169376981,
          -0.40348441700000004,
          4.3789066073,
          -0.0453821739,
          -0.8552599497000001,
          1.17785253,
          -2.3441144387,
          -0.4756823021,
          -0.8187273258000001,
          -1.0543658232,
          -0.3755074095
         ]
        }
       ],
       "layout": {
        "height": 1200,
        "margin": {
         "l": 0,
         "r": 0
        },
        "scene": {
         "xaxis": {
          "title": {
           "text": "<-- x -->"
          }
         },
         "yaxis": {
          "title": {
           "text": "<-- y -->"
          }
         },
         "zaxis": {
          "title": {
           "text": "<-- z -->"
          }
         }
        },
        "template": {
         "data": {
          "bar": [
           {
            "error_x": {
             "color": "#f2f5fa"
            },
            "error_y": {
             "color": "#f2f5fa"
            },
            "marker": {
             "line": {
              "color": "rgb(17,17,17)",
              "width": 0.5
             },
             "pattern": {
              "fillmode": "overlay",
              "size": 10,
              "solidity": 0.2
             }
            },
            "type": "bar"
           }
          ],
          "barpolar": [
           {
            "marker": {
             "line": {
              "color": "rgb(17,17,17)",
              "width": 0.5
             },
             "pattern": {
              "fillmode": "overlay",
              "size": 10,
              "solidity": 0.2
             }
            },
            "type": "barpolar"
           }
          ],
          "carpet": [
           {
            "aaxis": {
             "endlinecolor": "#A2B1C6",
             "gridcolor": "#506784",
             "linecolor": "#506784",
             "minorgridcolor": "#506784",
             "startlinecolor": "#A2B1C6"
            },
            "baxis": {
             "endlinecolor": "#A2B1C6",
             "gridcolor": "#506784",
             "linecolor": "#506784",
             "minorgridcolor": "#506784",
             "startlinecolor": "#A2B1C6"
            },
            "type": "carpet"
           }
          ],
          "choropleth": [
           {
            "colorbar": {
             "outlinewidth": 0,
             "ticks": ""
            },
            "type": "choropleth"
           }
          ],
          "contour": [
           {
            "colorbar": {
             "outlinewidth": 0,
             "ticks": ""
            },
            "colorscale": [
             [
              0,
              "#0d0887"
             ],
             [
              0.1111111111111111,
              "#46039f"
             ],
             [
              0.2222222222222222,
              "#7201a8"
             ],
             [
              0.3333333333333333,
              "#9c179e"
             ],
             [
              0.4444444444444444,
              "#bd3786"
             ],
             [
              0.5555555555555556,
              "#d8576b"
             ],
             [
              0.6666666666666666,
              "#ed7953"
             ],
             [
              0.7777777777777778,
              "#fb9f3a"
             ],
             [
              0.8888888888888888,
              "#fdca26"
             ],
             [
              1,
              "#f0f921"
             ]
            ],
            "type": "contour"
           }
          ],
          "contourcarpet": [
           {
            "colorbar": {
             "outlinewidth": 0,
             "ticks": ""
            },
            "type": "contourcarpet"
           }
          ],
          "heatmap": [
           {
            "colorbar": {
             "outlinewidth": 0,
             "ticks": ""
            },
            "colorscale": [
             [
              0,
              "#0d0887"
             ],
             [
              0.1111111111111111,
              "#46039f"
             ],
             [
              0.2222222222222222,
              "#7201a8"
             ],
             [
              0.3333333333333333,
              "#9c179e"
             ],
             [
              0.4444444444444444,
              "#bd3786"
             ],
             [
              0.5555555555555556,
              "#d8576b"
             ],
             [
              0.6666666666666666,
              "#ed7953"
             ],
             [
              0.7777777777777778,
              "#fb9f3a"
             ],
             [
              0.8888888888888888,
              "#fdca26"
             ],
             [
              1,
              "#f0f921"
             ]
            ],
            "type": "heatmap"
           }
          ],
          "heatmapgl": [
           {
            "colorbar": {
             "outlinewidth": 0,
             "ticks": ""
            },
            "colorscale": [
             [
              0,
              "#0d0887"
             ],
             [
              0.1111111111111111,
              "#46039f"
             ],
             [
              0.2222222222222222,
              "#7201a8"
             ],
             [
              0.3333333333333333,
              "#9c179e"
             ],
             [
              0.4444444444444444,
              "#bd3786"
             ],
             [
              0.5555555555555556,
              "#d8576b"
             ],
             [
              0.6666666666666666,
              "#ed7953"
             ],
             [
              0.7777777777777778,
              "#fb9f3a"
             ],
             [
              0.8888888888888888,
              "#fdca26"
             ],
             [
              1,
              "#f0f921"
             ]
            ],
            "type": "heatmapgl"
           }
          ],
          "histogram": [
           {
            "marker": {
             "pattern": {
              "fillmode": "overlay",
              "size": 10,
              "solidity": 0.2
             }
            },
            "type": "histogram"
           }
          ],
          "histogram2d": [
           {
            "colorbar": {
             "outlinewidth": 0,
             "ticks": ""
            },
            "colorscale": [
             [
              0,
              "#0d0887"
             ],
             [
              0.1111111111111111,
              "#46039f"
             ],
             [
              0.2222222222222222,
              "#7201a8"
             ],
             [
              0.3333333333333333,
              "#9c179e"
             ],
             [
              0.4444444444444444,
              "#bd3786"
             ],
             [
              0.5555555555555556,
              "#d8576b"
             ],
             [
              0.6666666666666666,
              "#ed7953"
             ],
             [
              0.7777777777777778,
              "#fb9f3a"
             ],
             [
              0.8888888888888888,
              "#fdca26"
             ],
             [
              1,
              "#f0f921"
             ]
            ],
            "type": "histogram2d"
           }
          ],
          "histogram2dcontour": [
           {
            "colorbar": {
             "outlinewidth": 0,
             "ticks": ""
            },
            "colorscale": [
             [
              0,
              "#0d0887"
             ],
             [
              0.1111111111111111,
              "#46039f"
             ],
             [
              0.2222222222222222,
              "#7201a8"
             ],
             [
              0.3333333333333333,
              "#9c179e"
             ],
             [
              0.4444444444444444,
              "#bd3786"
             ],
             [
              0.5555555555555556,
              "#d8576b"
             ],
             [
              0.6666666666666666,
              "#ed7953"
             ],
             [
              0.7777777777777778,
              "#fb9f3a"
             ],
             [
              0.8888888888888888,
              "#fdca26"
             ],
             [
              1,
              "#f0f921"
             ]
            ],
            "type": "histogram2dcontour"
           }
          ],
          "mesh3d": [
           {
            "colorbar": {
             "outlinewidth": 0,
             "ticks": ""
            },
            "type": "mesh3d"
           }
          ],
          "parcoords": [
           {
            "line": {
             "colorbar": {
              "outlinewidth": 0,
              "ticks": ""
             }
            },
            "type": "parcoords"
           }
          ],
          "pie": [
           {
            "automargin": true,
            "type": "pie"
           }
          ],
          "scatter": [
           {
            "marker": {
             "line": {
              "color": "#283442"
             }
            },
            "type": "scatter"
           }
          ],
          "scatter3d": [
           {
            "line": {
             "colorbar": {
              "outlinewidth": 0,
              "ticks": ""
             }
            },
            "marker": {
             "colorbar": {
              "outlinewidth": 0,
              "ticks": ""
             }
            },
            "type": "scatter3d"
           }
          ],
          "scattercarpet": [
           {
            "marker": {
             "colorbar": {
              "outlinewidth": 0,
              "ticks": ""
             }
            },
            "type": "scattercarpet"
           }
          ],
          "scattergeo": [
           {
            "marker": {
             "colorbar": {
              "outlinewidth": 0,
              "ticks": ""
             }
            },
            "type": "scattergeo"
           }
          ],
          "scattergl": [
           {
            "marker": {
             "line": {
              "color": "#283442"
             }
            },
            "type": "scattergl"
           }
          ],
          "scattermapbox": [
           {
            "marker": {
             "colorbar": {
              "outlinewidth": 0,
              "ticks": ""
             }
            },
            "type": "scattermapbox"
           }
          ],
          "scatterpolar": [
           {
            "marker": {
             "colorbar": {
              "outlinewidth": 0,
              "ticks": ""
             }
            },
            "type": "scatterpolar"
           }
          ],
          "scatterpolargl": [
           {
            "marker": {
             "colorbar": {
              "outlinewidth": 0,
              "ticks": ""
             }
            },
            "type": "scatterpolargl"
           }
          ],
          "scatterternary": [
           {
            "marker": {
             "colorbar": {
              "outlinewidth": 0,
              "ticks": ""
             }
            },
            "type": "scatterternary"
           }
          ],
          "surface": [
           {
            "colorbar": {
             "outlinewidth": 0,
             "ticks": ""
            },
            "colorscale": [
             [
              0,
              "#0d0887"
             ],
             [
              0.1111111111111111,
              "#46039f"
             ],
             [
              0.2222222222222222,
              "#7201a8"
             ],
             [
              0.3333333333333333,
              "#9c179e"
             ],
             [
              0.4444444444444444,
              "#bd3786"
             ],
             [
              0.5555555555555556,
              "#d8576b"
             ],
             [
              0.6666666666666666,
              "#ed7953"
             ],
             [
              0.7777777777777778,
              "#fb9f3a"
             ],
             [
              0.8888888888888888,
              "#fdca26"
             ],
             [
              1,
              "#f0f921"
             ]
            ],
            "type": "surface"
           }
          ],
          "table": [
           {
            "cells": {
             "fill": {
              "color": "#506784"
             },
             "line": {
              "color": "rgb(17,17,17)"
             }
            },
            "header": {
             "fill": {
              "color": "#2a3f5f"
             },
             "line": {
              "color": "rgb(17,17,17)"
             }
            },
            "type": "table"
           }
          ]
         },
         "layout": {
          "annotationdefaults": {
           "arrowcolor": "#f2f5fa",
           "arrowhead": 0,
           "arrowwidth": 1
          },
          "autotypenumbers": "strict",
          "coloraxis": {
           "colorbar": {
            "outlinewidth": 0,
            "ticks": ""
           }
          },
          "colorscale": {
           "diverging": [
            [
             0,
             "#8e0152"
            ],
            [
             0.1,
             "#c51b7d"
            ],
            [
             0.2,
             "#de77ae"
            ],
            [
             0.3,
             "#f1b6da"
            ],
            [
             0.4,
             "#fde0ef"
            ],
            [
             0.5,
             "#f7f7f7"
            ],
            [
             0.6,
             "#e6f5d0"
            ],
            [
             0.7,
             "#b8e186"
            ],
            [
             0.8,
             "#7fbc41"
            ],
            [
             0.9,
             "#4d9221"
            ],
            [
             1,
             "#276419"
            ]
           ],
           "sequential": [
            [
             0,
             "#0d0887"
            ],
            [
             0.1111111111111111,
             "#46039f"
            ],
            [
             0.2222222222222222,
             "#7201a8"
            ],
            [
             0.3333333333333333,
             "#9c179e"
            ],
            [
             0.4444444444444444,
             "#bd3786"
            ],
            [
             0.5555555555555556,
             "#d8576b"
            ],
            [
             0.6666666666666666,
             "#ed7953"
            ],
            [
             0.7777777777777778,
             "#fb9f3a"
            ],
            [
             0.8888888888888888,
             "#fdca26"
            ],
            [
             1,
             "#f0f921"
            ]
           ],
           "sequentialminus": [
            [
             0,
             "#0d0887"
            ],
            [
             0.1111111111111111,
             "#46039f"
            ],
            [
             0.2222222222222222,
             "#7201a8"
            ],
            [
             0.3333333333333333,
             "#9c179e"
            ],
            [
             0.4444444444444444,
             "#bd3786"
            ],
            [
             0.5555555555555556,
             "#d8576b"
            ],
            [
             0.6666666666666666,
             "#ed7953"
            ],
            [
             0.7777777777777778,
             "#fb9f3a"
            ],
            [
             0.8888888888888888,
             "#fdca26"
            ],
            [
             1,
             "#f0f921"
            ]
           ]
          },
          "colorway": [
           "#636efa",
           "#EF553B",
           "#00cc96",
           "#ab63fa",
           "#FFA15A",
           "#19d3f3",
           "#FF6692",
           "#B6E880",
           "#FF97FF",
           "#FECB52"
          ],
          "font": {
           "color": "#f2f5fa"
          },
          "geo": {
           "bgcolor": "rgb(17,17,17)",
           "lakecolor": "rgb(17,17,17)",
           "landcolor": "rgb(17,17,17)",
           "showlakes": true,
           "showland": true,
           "subunitcolor": "#506784"
          },
          "hoverlabel": {
           "align": "left"
          },
          "hovermode": "closest",
          "mapbox": {
           "style": "dark"
          },
          "paper_bgcolor": "rgb(17,17,17)",
          "plot_bgcolor": "rgb(17,17,17)",
          "polar": {
           "angularaxis": {
            "gridcolor": "#506784",
            "linecolor": "#506784",
            "ticks": ""
           },
           "bgcolor": "rgb(17,17,17)",
           "radialaxis": {
            "gridcolor": "#506784",
            "linecolor": "#506784",
            "ticks": ""
           }
          },
          "scene": {
           "xaxis": {
            "backgroundcolor": "rgb(17,17,17)",
            "gridcolor": "#506784",
            "gridwidth": 2,
            "linecolor": "#506784",
            "showbackground": true,
            "ticks": "",
            "zerolinecolor": "#C8D4E3"
           },
           "yaxis": {
            "backgroundcolor": "rgb(17,17,17)",
            "gridcolor": "#506784",
            "gridwidth": 2,
            "linecolor": "#506784",
            "showbackground": true,
            "ticks": "",
            "zerolinecolor": "#C8D4E3"
           },
           "zaxis": {
            "backgroundcolor": "rgb(17,17,17)",
            "gridcolor": "#506784",
            "gridwidth": 2,
            "linecolor": "#506784",
            "showbackground": true,
            "ticks": "",
            "zerolinecolor": "#C8D4E3"
           }
          },
          "shapedefaults": {
           "line": {
            "color": "#f2f5fa"
           }
          },
          "sliderdefaults": {
           "bgcolor": "#C8D4E3",
           "bordercolor": "rgb(17,17,17)",
           "borderwidth": 1,
           "tickwidth": 0
          },
          "ternary": {
           "aaxis": {
            "gridcolor": "#506784",
            "linecolor": "#506784",
            "ticks": ""
           },
           "baxis": {
            "gridcolor": "#506784",
            "linecolor": "#506784",
            "ticks": ""
           },
           "bgcolor": "rgb(17,17,17)",
           "caxis": {
            "gridcolor": "#506784",
            "linecolor": "#506784",
            "ticks": ""
           }
          },
          "title": {
           "x": 0.05
          },
          "updatemenudefaults": {
           "bgcolor": "#506784",
           "borderwidth": 0
          },
          "xaxis": {
           "automargin": true,
           "gridcolor": "#283442",
           "linecolor": "#506784",
           "ticks": "",
           "title": {
            "standoff": 15
           },
           "zerolinecolor": "#283442",
           "zerolinewidth": 2
          },
          "yaxis": {
           "automargin": true,
           "gridcolor": "#283442",
           "linecolor": "#506784",
           "ticks": "",
           "title": {
            "standoff": 15
           },
           "zerolinecolor": "#283442",
           "zerolinewidth": 2
          }
         }
        },
        "width": 1200
       }
      }
     },
     "metadata": {},
     "output_type": "display_data"
    }
   ],
   "source": [
    "import plotly.graph_objs as go\n",
    "\n",
    "Scene = dict(xaxis = dict(title  = '<-- x -->'),yaxis = dict(title  = '<-- y -->'),zaxis = dict(title  = '<-- z -->'))\n",
    "\n",
    "# model.labels_ is nothing but the predicted clusters i.e y_clusters\n",
    "# , hover_name=\"text\"\n",
    "labels = model.labels_\n",
    "#trace = go.Scatter3d(x=X[:, 0], y=X[:, 1], z=X[:, 2], mode='markers',marker=dict(color = labels, size= 10, line=dict(color= 'black',width = 10),opacity=0.8))\n",
    "trace = go.Scatter3d(x=X[:, 0],\n",
    "                     y=X[:, 1],\n",
    "                     z=X[:, 2],\n",
    "                     mode='markers',\n",
    "                     # in text put first 50 characters of the tweet\n",
    "                     text=df['texto-original'].str[:150],\n",
    "                     marker=dict(color = labels, size= 10, line=dict(color= 'black',width = 10),opacity=0.8))\n",
    "layout = go.Layout(margin=dict(l=0,r=0),scene = Scene,height = 1200,width = 1200, template=\"plotly_dark\")\n",
    "data = [trace]\n",
    "fig = go.Figure(data = data, layout = layout)\n",
    "fig.show()"
   ]
  },
  {
   "cell_type": "code",
   "execution_count": 40,
   "metadata": {},
   "outputs": [],
   "source": [
    "# export to html\n",
    "fig.write_html(\"../reports/figures/3d-scatter-plot.html\")"
   ]
  },
  {
   "cell_type": "code",
   "execution_count": 42,
   "metadata": {},
   "outputs": [
    {
     "data": {
      "text/html": [
       "<div>\n",
       "<style scoped>\n",
       "    .dataframe tbody tr th:only-of-type {\n",
       "        vertical-align: middle;\n",
       "    }\n",
       "\n",
       "    .dataframe tbody tr th {\n",
       "        vertical-align: top;\n",
       "    }\n",
       "\n",
       "    .dataframe thead th {\n",
       "        text-align: right;\n",
       "    }\n",
       "</style>\n",
       "<table border=\"1\" class=\"dataframe\">\n",
       "  <thead>\n",
       "    <tr style=\"text-align: right;\">\n",
       "      <th></th>\n",
       "      <th>texto-original</th>\n",
       "      <th>x</th>\n",
       "      <th>y</th>\n",
       "      <th>z</th>\n",
       "    </tr>\n",
       "  </thead>\n",
       "  <tbody>\n",
       "    <tr>\n",
       "      <th>0</th>\n",
       "      <td>Pobres #MasistasIgnorantes piensan que por and...</td>\n",
       "      <td>-0.919580</td>\n",
       "      <td>-0.824795</td>\n",
       "      <td>-0.407625</td>\n",
       "    </tr>\n",
       "    <tr>\n",
       "      <th>3</th>\n",
       "      <td>@DraInterleucina @LuisFerCamachoV @Elgobernado...</td>\n",
       "      <td>-1.109628</td>\n",
       "      <td>1.176379</td>\n",
       "      <td>0.033493</td>\n",
       "    </tr>\n",
       "    <tr>\n",
       "      <th>4</th>\n",
       "      <td>El tongo siempre fue maleante. Mandó a desvali...</td>\n",
       "      <td>6.045797</td>\n",
       "      <td>-0.501563</td>\n",
       "      <td>0.545590</td>\n",
       "    </tr>\n",
       "    <tr>\n",
       "      <th>5</th>\n",
       "      <td>Así justifica lo tan obvio 🙄como su supuesto a...</td>\n",
       "      <td>3.762716</td>\n",
       "      <td>1.338456</td>\n",
       "      <td>-0.464555</td>\n",
       "    </tr>\n",
       "    <tr>\n",
       "      <th>7</th>\n",
       "      <td>@grupoeldeber #revocatongo</td>\n",
       "      <td>-2.330225</td>\n",
       "      <td>0.928893</td>\n",
       "      <td>-0.321064</td>\n",
       "    </tr>\n",
       "  </tbody>\n",
       "</table>\n",
       "</div>"
      ],
      "text/plain": [
       "                                      texto-original         x         y  \\\n",
       "0  Pobres #MasistasIgnorantes piensan que por and... -0.919580 -0.824795   \n",
       "3  @DraInterleucina @LuisFerCamachoV @Elgobernado... -1.109628  1.176379   \n",
       "4  El tongo siempre fue maleante. Mandó a desvali...  6.045797 -0.501563   \n",
       "5  Así justifica lo tan obvio 🙄como su supuesto a...  3.762716  1.338456   \n",
       "7                         @grupoeldeber #revocatongo -2.330225  0.928893   \n",
       "\n",
       "          z  \n",
       "0 -0.407625  \n",
       "3  0.033493  \n",
       "4  0.545590  \n",
       "5 -0.464555  \n",
       "7 -0.321064  "
      ]
     },
     "execution_count": 42,
     "metadata": {},
     "output_type": "execute_result"
    }
   ],
   "source": [
    "df.head()"
   ]
  },
  {
   "cell_type": "code",
   "execution_count": 43,
   "metadata": {},
   "outputs": [],
   "source": [
    "# export df to excel\n",
    "df.to_excel(\"../data/2_processed/0_texto(sinrep)_puntos3d.xlsx\")"
   ]
  },
  {
   "cell_type": "code",
   "execution_count": null,
   "metadata": {},
   "outputs": [],
   "source": []
  }
 ],
 "metadata": {
  "kernelspec": {
   "display_name": "Python 3.8.13 ('base')",
   "language": "python",
   "name": "python3"
  },
  "language_info": {
   "codemirror_mode": {
    "name": "ipython",
    "version": 3
   },
   "file_extension": ".py",
   "mimetype": "text/x-python",
   "name": "python",
   "nbconvert_exporter": "python",
   "pygments_lexer": "ipython3",
   "version": "3.8.13"
  },
  "orig_nbformat": 4,
  "vscode": {
   "interpreter": {
    "hash": "ff4f85d6e04298634172ac5d8264e7e9b556b95639fe52ebb9425c4d4cba0c9c"
   }
  }
 },
 "nbformat": 4,
 "nbformat_minor": 2
}
