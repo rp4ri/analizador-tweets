{
 "cells": [
  {
   "cell_type": "markdown",
   "metadata": {},
   "source": [
    "## Qué hay acá?\n",
    "\n",
    "Tomando los datos de 0_raw en la carpeta data le hago un análisis de sentimientos usando las librerias TextBlob y Nltk y los guardo en 1_intermediate-sentimientos. Para esto, se necesita que los datos en 0_raw estén traducidos, como alternativa se puede usar https://github.com/pysentimiento/pysentimiento para hacer el análisis de sentimientos en español.\n"
   ]
  },
  {
   "cell_type": "code",
   "execution_count": 2,
   "metadata": {},
   "outputs": [
    {
     "name": "stderr",
     "output_type": "stream",
     "text": [
      "c:\\anaconda3\\lib\\site-packages\\numpy\\_distributor_init.py:30: UserWarning: loaded more than 1 DLL from .libs:\n",
      "c:\\anaconda3\\lib\\site-packages\\numpy\\.libs\\libopenblas.EL2C6PLE4ZYW3ECEVIV3OXXGRN2NRFM2.gfortran-win_amd64.dll\n",
      "c:\\anaconda3\\lib\\site-packages\\numpy\\.libs\\libopenblas.XWYDX2IKJW2NMTWSFYNGFUWKQU3LYTCZ.gfortran-win_amd64.dll\n",
      "  warnings.warn(\"loaded more than 1 DLL from .libs:\"\n"
     ]
    }
   ],
   "source": [
    "import pandas as pd\n",
    "\n",
    "from textblob import TextBlob\n",
    "from nltk.sentiment.vader import SentimentIntensityAnalyzer"
   ]
  },
  {
   "cell_type": "code",
   "execution_count": 3,
   "metadata": {},
   "outputs": [
    {
     "data": {
      "text/html": [
       "<div>\n",
       "<style scoped>\n",
       "    .dataframe tbody tr th:only-of-type {\n",
       "        vertical-align: middle;\n",
       "    }\n",
       "\n",
       "    .dataframe tbody tr th {\n",
       "        vertical-align: top;\n",
       "    }\n",
       "\n",
       "    .dataframe thead th {\n",
       "        text-align: right;\n",
       "    }\n",
       "</style>\n",
       "<table border=\"1\" class=\"dataframe\">\n",
       "  <thead>\n",
       "    <tr style=\"text-align: right;\">\n",
       "      <th></th>\n",
       "      <th>texto-traducido</th>\n",
       "      <th>texto-original</th>\n",
       "    </tr>\n",
       "  </thead>\n",
       "  <tbody>\n",
       "    <tr>\n",
       "      <th>0</th>\n",
       "      <td>Poor #MasistasIgnorantes think that because t...</td>\n",
       "      <td>Pobres #MasistasIgnorantes piensan que por and...</td>\n",
       "    </tr>\n",
       "    <tr>\n",
       "      <th>1</th>\n",
       "      <td>Poor #MasistasIgnorantes think that because t...</td>\n",
       "      <td>Pobres #MasistasIgnorantes piensan que por and...</td>\n",
       "    </tr>\n",
       "    <tr>\n",
       "      <th>2</th>\n",
       "      <td>Poor #MasistasIgnorantes think that because t...</td>\n",
       "      <td>Pobres #MasistasIgnorantes piensan que por and...</td>\n",
       "    </tr>\n",
       "    <tr>\n",
       "      <th>3</th>\n",
       "      <td>@DraInterleucina @LuisFerCamachoV @Elgobernad...</td>\n",
       "      <td>@DraInterleucina @LuisFerCamachoV @Elgobernado...</td>\n",
       "    </tr>\n",
       "    <tr>\n",
       "      <th>4</th>\n",
       "      <td>The tongo was always evil. He ordered his fat...</td>\n",
       "      <td>El tongo siempre fue maleante. Mandó a desvali...</td>\n",
       "    </tr>\n",
       "  </tbody>\n",
       "</table>\n",
       "</div>"
      ],
      "text/plain": [
       "                                     texto-traducido  \\\n",
       "0   Poor #MasistasIgnorantes think that because t...   \n",
       "1   Poor #MasistasIgnorantes think that because t...   \n",
       "2   Poor #MasistasIgnorantes think that because t...   \n",
       "3   @DraInterleucina @LuisFerCamachoV @Elgobernad...   \n",
       "4   The tongo was always evil. He ordered his fat...   \n",
       "\n",
       "                                      texto-original  \n",
       "0  Pobres #MasistasIgnorantes piensan que por and...  \n",
       "1  Pobres #MasistasIgnorantes piensan que por and...  \n",
       "2  Pobres #MasistasIgnorantes piensan que por and...  \n",
       "3  @DraInterleucina @LuisFerCamachoV @Elgobernado...  \n",
       "4  El tongo siempre fue maleante. Mandó a desvali...  "
      ]
     },
     "execution_count": 3,
     "metadata": {},
     "output_type": "execute_result"
    }
   ],
   "source": [
    "df = pd.read_excel('../data/0_raw/0_raw.xlsx')\n",
    "df.head()"
   ]
  },
  {
   "cell_type": "code",
   "execution_count": 4,
   "metadata": {},
   "outputs": [
    {
     "name": "stderr",
     "output_type": "stream",
     "text": [
      "[nltk_data] Downloading package stopwords to\n",
      "[nltk_data]     C:\\Users\\TELMA\\AppData\\Roaming\\nltk_data...\n",
      "[nltk_data]   Package stopwords is already up-to-date!\n"
     ]
    }
   ],
   "source": [
    "# importando librerias en español\n",
    "import nltk\n",
    "from nltk.corpus import stopwords\n",
    "from wordcloud import WordCloud\n",
    "\n",
    "from textblob import TextBlob\n",
    "from nltk.sentiment.vader import SentimentIntensityAnalyzer\n",
    "\n",
    "nltk.download('stopwords')\n",
    "stop_words = stopwords.words('spanish')"
   ]
  },
  {
   "cell_type": "code",
   "execution_count": 5,
   "metadata": {},
   "outputs": [
    {
     "name": "stdout",
     "output_type": "stream",
     "text": [
      " Poor #MasistasIgnorantes think that because they hang out with #TioTongo, their new #MasiMula #MasiLlunku, they will be welcome in #SantaCruzBo 🤡🤡🤡 We're still going to do #RevocaTongo to Juanito (save yourself and #RenunciaYa) https://t.co /inmi6knY6h\n",
      "\n",
      "0.1787878787878788\n",
      "-0.0258\n",
      "\n",
      "Sentiment(polarity=0.1787878787878788, subjectivity=0.6515151515151515)\n",
      "{'neg': 0.079, 'neu': 0.844, 'pos': 0.077, 'compound': -0.0258}\n"
     ]
    }
   ],
   "source": [
    "# probando las librerias en la primer fila del excel\n",
    "\n",
    "sentence = df[\"texto-traducido\"][0]\n",
    "print(sentence)\n",
    "print()\n",
    "\n",
    "sid = SentimentIntensityAnalyzer()\n",
    "\n",
    "result = TextBlob(sentence).sentiment\n",
    "print(result.polarity)\n",
    "\n",
    "ss = sid.polarity_scores(sentence)\n",
    "print(ss['compound'])\n",
    "\n",
    "print()\n",
    "print(result)\n",
    "print(ss)"
   ]
  },
  {
   "cell_type": "code",
   "execution_count": 6,
   "metadata": {},
   "outputs": [],
   "source": [
    "# creando las funciones para generar las nuevas columnas\n",
    "\n",
    "def compound_nltk(text):\n",
    "    try:\n",
    "        return sid.polarity_scores(text)['compound']\n",
    "    except:\n",
    "        return None\n",
    "\n",
    "def polarity_tb(text):\n",
    "    try:\n",
    "        return TextBlob(text).sentiment.polarity\n",
    "    except:\n",
    "        return None\n",
    "\n",
    "def subjectivity_tb(text):\n",
    "    try:\n",
    "        return TextBlob(text).sentiment.subjectivity\n",
    "    except:\n",
    "        return None"
   ]
  },
  {
   "cell_type": "code",
   "execution_count": 7,
   "metadata": {},
   "outputs": [
    {
     "data": {
      "text/html": [
       "<div>\n",
       "<style scoped>\n",
       "    .dataframe tbody tr th:only-of-type {\n",
       "        vertical-align: middle;\n",
       "    }\n",
       "\n",
       "    .dataframe tbody tr th {\n",
       "        vertical-align: top;\n",
       "    }\n",
       "\n",
       "    .dataframe thead th {\n",
       "        text-align: right;\n",
       "    }\n",
       "</style>\n",
       "<table border=\"1\" class=\"dataframe\">\n",
       "  <thead>\n",
       "    <tr style=\"text-align: right;\">\n",
       "      <th></th>\n",
       "      <th>texto-traducido</th>\n",
       "      <th>texto-original</th>\n",
       "      <th>compound_nltk</th>\n",
       "      <th>polarity_tb</th>\n",
       "      <th>subjectivity_tb</th>\n",
       "    </tr>\n",
       "  </thead>\n",
       "  <tbody>\n",
       "    <tr>\n",
       "      <th>0</th>\n",
       "      <td>Poor #MasistasIgnorantes think that because t...</td>\n",
       "      <td>Pobres #MasistasIgnorantes piensan que por and...</td>\n",
       "      <td>-0.0258</td>\n",
       "      <td>0.178788</td>\n",
       "      <td>0.651515</td>\n",
       "    </tr>\n",
       "    <tr>\n",
       "      <th>1</th>\n",
       "      <td>Poor #MasistasIgnorantes think that because t...</td>\n",
       "      <td>Pobres #MasistasIgnorantes piensan que por and...</td>\n",
       "      <td>-0.0258</td>\n",
       "      <td>0.178788</td>\n",
       "      <td>0.651515</td>\n",
       "    </tr>\n",
       "    <tr>\n",
       "      <th>2</th>\n",
       "      <td>Poor #MasistasIgnorantes think that because t...</td>\n",
       "      <td>Pobres #MasistasIgnorantes piensan que por and...</td>\n",
       "      <td>-0.0258</td>\n",
       "      <td>0.178788</td>\n",
       "      <td>0.651515</td>\n",
       "    </tr>\n",
       "    <tr>\n",
       "      <th>3</th>\n",
       "      <td>@DraInterleucina @LuisFerCamachoV @Elgobernad...</td>\n",
       "      <td>@DraInterleucina @LuisFerCamachoV @Elgobernado...</td>\n",
       "      <td>0.0000</td>\n",
       "      <td>0.000000</td>\n",
       "      <td>0.000000</td>\n",
       "    </tr>\n",
       "    <tr>\n",
       "      <th>4</th>\n",
       "      <td>The tongo was always evil. He ordered his fat...</td>\n",
       "      <td>El tongo siempre fue maleante. Mandó a desvali...</td>\n",
       "      <td>-0.8625</td>\n",
       "      <td>-0.583333</td>\n",
       "      <td>0.666667</td>\n",
       "    </tr>\n",
       "  </tbody>\n",
       "</table>\n",
       "</div>"
      ],
      "text/plain": [
       "                                     texto-traducido  \\\n",
       "0   Poor #MasistasIgnorantes think that because t...   \n",
       "1   Poor #MasistasIgnorantes think that because t...   \n",
       "2   Poor #MasistasIgnorantes think that because t...   \n",
       "3   @DraInterleucina @LuisFerCamachoV @Elgobernad...   \n",
       "4   The tongo was always evil. He ordered his fat...   \n",
       "\n",
       "                                      texto-original  compound_nltk  \\\n",
       "0  Pobres #MasistasIgnorantes piensan que por and...        -0.0258   \n",
       "1  Pobres #MasistasIgnorantes piensan que por and...        -0.0258   \n",
       "2  Pobres #MasistasIgnorantes piensan que por and...        -0.0258   \n",
       "3  @DraInterleucina @LuisFerCamachoV @Elgobernado...         0.0000   \n",
       "4  El tongo siempre fue maleante. Mandó a desvali...        -0.8625   \n",
       "\n",
       "   polarity_tb  subjectivity_tb  \n",
       "0     0.178788         0.651515  \n",
       "1     0.178788         0.651515  \n",
       "2     0.178788         0.651515  \n",
       "3     0.000000         0.000000  \n",
       "4    -0.583333         0.666667  "
      ]
     },
     "execution_count": 7,
     "metadata": {},
     "output_type": "execute_result"
    }
   ],
   "source": [
    "# apply the functions to the dataframe\n",
    "df['compound_nltk'] = df['texto-traducido'].apply(compound_nltk)\n",
    "df['polarity_tb'] = df['texto-traducido'].apply(polarity_tb)\n",
    "df['subjectivity_tb'] = df['texto-traducido'].apply(subjectivity_tb)\n",
    "\n",
    "df.head()"
   ]
  },
  {
   "cell_type": "code",
   "execution_count": 9,
   "metadata": {},
   "outputs": [],
   "source": [
    "# export to json in ../data/1_intermediate\n",
    "df.to_json('../data/1_intermediate/0_intermediate-sentimientos.json', orient='records', lines=True)\n",
    "#df.to_excel('../data/1_intermediate/0_intermediate-sentimientos.xlsx', index=False)"
   ]
  },
  {
   "cell_type": "code",
   "execution_count": null,
   "metadata": {},
   "outputs": [],
   "source": []
  }
 ],
 "metadata": {
  "kernelspec": {
   "display_name": "Python 3.8.13 ('base')",
   "language": "python",
   "name": "python3"
  },
  "language_info": {
   "codemirror_mode": {
    "name": "ipython",
    "version": 3
   },
   "file_extension": ".py",
   "mimetype": "text/x-python",
   "name": "python",
   "nbconvert_exporter": "python",
   "pygments_lexer": "ipython3",
   "version": "3.8.13"
  },
  "orig_nbformat": 4,
  "vscode": {
   "interpreter": {
    "hash": "ff4f85d6e04298634172ac5d8264e7e9b556b95639fe52ebb9425c4d4cba0c9c"
   }
  }
 },
 "nbformat": 4,
 "nbformat_minor": 2
}
