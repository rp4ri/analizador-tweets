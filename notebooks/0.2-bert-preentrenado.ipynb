{
 "cells": [
  {
   "cell_type": "markdown",
   "metadata": {},
   "source": [
    "## Qué hay acá?\n",
    "\n",
    "Tomando los datos de 0_raw, tomando el texto en español, aplico un modelo preentrenado de BERT para obtener vectores de 768 dimensiones para cada texto. Estos vectores los guardo en 1_intermediate-vectores."
   ]
  },
  {
   "cell_type": "code",
   "execution_count": 3,
   "metadata": {},
   "outputs": [],
   "source": [
    "import pandas as pd\n",
    "\n",
    "import torch\n",
    "from pytorch_transformers import *"
   ]
  },
  {
   "cell_type": "code",
   "execution_count": 2,
   "metadata": {},
   "outputs": [
    {
     "name": "stdout",
     "output_type": "stream",
     "text": [
      "(36,)\n"
     ]
    },
    {
     "data": {
      "text/plain": [
       "0    Pobres #MasistasIgnorantes piensan que por and...\n",
       "3    @DraInterleucina @LuisFerCamachoV @Elgobernado...\n",
       "4    El tongo siempre fue maleante. Mandó a desvali...\n",
       "5    Así justifica lo tan obvio 🙄como su supuesto a...\n",
       "7                           @grupoeldeber #revocatongo\n",
       "Name: texto-original, dtype: object"
      ]
     },
     "execution_count": 2,
     "metadata": {},
     "output_type": "execute_result"
    }
   ],
   "source": [
    "df = pd.read_excel('../data/0_raw/0_raw.xlsx')\n",
    "\n",
    "df = df[\"texto-original\"]\n",
    "\n",
    "# drop duplicates\n",
    "df = df.drop_duplicates()\n",
    "\n",
    "print(df.shape)\n",
    "df.head()"
   ]
  },
  {
   "cell_type": "code",
   "execution_count": 4,
   "metadata": {},
   "outputs": [
    {
     "data": {
      "text/plain": [
       "device(type='cuda')"
      ]
     },
     "execution_count": 4,
     "metadata": {},
     "output_type": "execute_result"
    }
   ],
   "source": [
    "tokenizer = BertTokenizer.from_pretrained('bert-base-multilingual-cased')\n",
    "model = BertModel.from_pretrained('bert-base-multilingual-cased')\n",
    "\n",
    "device = torch.device(\"cuda\" if torch.cuda.is_available() else \"cpu\")\n",
    "device"
   ]
  },
  {
   "cell_type": "code",
   "execution_count": 6,
   "metadata": {},
   "outputs": [],
   "source": [
    "# apply tokenizer to tweets in df\n",
    "tokenized = df.apply((lambda x: torch.tensor([tokenizer.encode(x, add_special_tokens=True)])))"
   ]
  },
  {
   "cell_type": "code",
   "execution_count": 8,
   "metadata": {},
   "outputs": [],
   "source": [
    "# apply model to tokenized\n",
    "last_hidden_states = tokenized.apply(lambda x: model(x)[0])"
   ]
  },
  {
   "cell_type": "code",
   "execution_count": 19,
   "metadata": {},
   "outputs": [],
   "source": [
    "# compute average\n",
    "average = last_hidden_states.apply(lambda x: torch.mean(x, dim=1))"
   ]
  },
  {
   "cell_type": "code",
   "execution_count": 20,
   "metadata": {},
   "outputs": [
    {
     "data": {
      "text/plain": [
       "0    [[tensor(0.0941, grad_fn=<UnbindBackward0>), t...\n",
       "3    [[tensor(0.1626, grad_fn=<UnbindBackward0>), t...\n",
       "4    [[tensor(0.0650, grad_fn=<UnbindBackward0>), t...\n",
       "5    [[tensor(-0.0970, grad_fn=<UnbindBackward0>), ...\n",
       "7    [[tensor(0.0577, grad_fn=<UnbindBackward0>), t...\n",
       "Name: texto-original, dtype: object"
      ]
     },
     "execution_count": 20,
     "metadata": {},
     "output_type": "execute_result"
    }
   ],
   "source": [
    "average.head()"
   ]
  },
  {
   "cell_type": "code",
   "execution_count": 21,
   "metadata": {},
   "outputs": [
    {
     "data": {
      "text/plain": [
       "0    [0.09410583, -0.3834717, 0.04874893, -0.002748...\n",
       "3    [0.16256577, -0.46596974, 0.65866065, 0.163009...\n",
       "4    [0.064989425, -0.61723, 0.033867605, 0.2302689...\n",
       "5    [-0.0970382, -0.96525264, 0.1961879, 0.2774996...\n",
       "7    [0.0577212, -0.9065021, 0.48618448, 0.37824604...\n",
       "Name: texto-original, dtype: object"
      ]
     },
     "execution_count": 21,
     "metadata": {},
     "output_type": "execute_result"
    }
   ],
   "source": [
    "# convert to numpy\n",
    "average = average.apply(lambda x: x.detach().numpy())\n",
    "# dimension (1, 768) to (768,)\n",
    "average = average.apply(lambda x: x[0])\n",
    "average.head()"
   ]
  },
  {
   "cell_type": "code",
   "execution_count": 25,
   "metadata": {},
   "outputs": [
    {
     "data": {
      "text/plain": [
       "(768,)"
      ]
     },
     "execution_count": 25,
     "metadata": {},
     "output_type": "execute_result"
    }
   ],
   "source": [
    "average.iloc[0].shape"
   ]
  },
  {
   "cell_type": "code",
   "execution_count": 27,
   "metadata": {},
   "outputs": [],
   "source": [
    "# export to json\n",
    "average.to_json('../data/1_intermediate/1_intermediate-vectores.json', orient='records', lines=True)"
   ]
  },
  {
   "cell_type": "code",
   "execution_count": null,
   "metadata": {},
   "outputs": [],
   "source": []
  }
 ],
 "metadata": {
  "kernelspec": {
   "display_name": "Python 3.8.13 ('base')",
   "language": "python",
   "name": "python3"
  },
  "language_info": {
   "codemirror_mode": {
    "name": "ipython",
    "version": 3
   },
   "file_extension": ".py",
   "mimetype": "text/x-python",
   "name": "python",
   "nbconvert_exporter": "python",
   "pygments_lexer": "ipython3",
   "version": "3.8.13"
  },
  "orig_nbformat": 4,
  "vscode": {
   "interpreter": {
    "hash": "ff4f85d6e04298634172ac5d8264e7e9b556b95639fe52ebb9425c4d4cba0c9c"
   }
  }
 },
 "nbformat": 4,
 "nbformat_minor": 2
}
